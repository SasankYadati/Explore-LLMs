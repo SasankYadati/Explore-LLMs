{
 "cells": [
  {
   "cell_type": "code",
   "execution_count": 1,
   "metadata": {},
   "outputs": [],
   "source": [
    "with open('input.txt', 'r', encoding='utf-8') as f:\n",
    "    text = f.read()"
   ]
  },
  {
   "cell_type": "code",
   "execution_count": 2,
   "metadata": {},
   "outputs": [
    {
     "name": "stdout",
     "output_type": "stream",
     "text": [
      "1115393\n"
     ]
    }
   ],
   "source": [
    "print(len(text))"
   ]
  },
  {
   "cell_type": "code",
   "execution_count": 3,
   "metadata": {},
   "outputs": [
    {
     "name": "stdout",
     "output_type": "stream",
     "text": [
      "First Citizen:\n",
      "Before we proceed any further, hear me speak.\n",
      "\n",
      "All:\n",
      "Speak, speak.\n",
      "\n",
      "First Citizen:\n",
      "You\n"
     ]
    }
   ],
   "source": [
    "print(text[:100])"
   ]
  },
  {
   "cell_type": "code",
   "execution_count": 4,
   "metadata": {},
   "outputs": [
    {
     "name": "stdout",
     "output_type": "stream",
     "text": [
      "\n",
      " !$&',-.3:;?ABCDEFGHIJKLMNOPQRSTUVWXYZabcdefghijklmnopqrstuvwxyz\n",
      "65\n"
     ]
    }
   ],
   "source": [
    "chars = sorted(list(set(text)))\n",
    "vocab_size = len(chars)\n",
    "print(''.join(chars))\n",
    "print(vocab_size)"
   ]
  },
  {
   "cell_type": "code",
   "execution_count": 5,
   "metadata": {},
   "outputs": [
    {
     "name": "stdout",
     "output_type": "stream",
     "text": [
      "[52, 39, 51, 57, 39, 49, 39, 56, 39, 51]\n",
      "namsakaram\n"
     ]
    }
   ],
   "source": [
    "stoi = {ch:i for i,ch in enumerate(chars)}\n",
    "itos = {i:ch for i,ch in enumerate(chars)}\n",
    "\n",
    "encode = lambda s: [stoi[c] for c in s]\n",
    "decode = lambda l: ''.join([itos[i] for i in l])\n",
    "\n",
    "print(encode(\"namsakaram\"))\n",
    "print(decode(encode(\"namsakaram\")))"
   ]
  },
  {
   "cell_type": "code",
   "execution_count": 6,
   "metadata": {},
   "outputs": [
    {
     "name": "stdout",
     "output_type": "stream",
     "text": [
      "torch.Size([1115393]) torch.int64\n",
      "tensor([18, 47, 56, 57, 58,  1, 15, 47, 58, 47, 64, 43, 52, 10,  0, 14, 43, 44,\n",
      "        53, 56, 43,  1, 61, 43,  1, 54, 56, 53, 41, 43, 43, 42,  1, 39, 52, 63,\n",
      "         1, 44, 59, 56, 58, 46, 43, 56,  6,  1, 46, 43, 39, 56,  1, 51, 43,  1,\n",
      "        57, 54, 43, 39, 49,  8,  0,  0, 13, 50, 50, 10,  0, 31, 54, 43, 39, 49,\n",
      "         6,  1, 57, 54, 43, 39, 49,  8,  0,  0, 18, 47, 56, 57, 58,  1, 15, 47,\n",
      "        58, 47, 64, 43, 52, 10,  0, 37, 53, 59])\n"
     ]
    }
   ],
   "source": [
    "import torch\n",
    "data = torch.tensor(encode(text), dtype=torch.long)\n",
    "print(data.shape, data.dtype)\n",
    "print(data[:100])"
   ]
  },
  {
   "cell_type": "code",
   "execution_count": 7,
   "metadata": {},
   "outputs": [],
   "source": [
    "n = int(0.9 * len(data)) # num of training samples\n",
    "train_data = data[:n]\n",
    "val_data = data[n:]"
   ]
  },
  {
   "cell_type": "code",
   "execution_count": 8,
   "metadata": {},
   "outputs": [
    {
     "data": {
      "text/plain": [
       "tensor([18, 47, 56, 57, 58,  1, 15, 47, 58])"
      ]
     },
     "execution_count": 8,
     "metadata": {},
     "output_type": "execute_result"
    }
   ],
   "source": [
    "block_size = 8\n",
    "train_data[:block_size+1]"
   ]
  },
  {
   "cell_type": "code",
   "execution_count": 9,
   "metadata": {},
   "outputs": [
    {
     "name": "stdout",
     "output_type": "stream",
     "text": [
      "input tensor([18]) output 47\n",
      "input tensor([18, 47]) output 56\n",
      "input tensor([18, 47, 56]) output 57\n",
      "input tensor([18, 47, 56, 57]) output 58\n",
      "input tensor([18, 47, 56, 57, 58]) output 1\n",
      "input tensor([18, 47, 56, 57, 58,  1]) output 15\n",
      "input tensor([18, 47, 56, 57, 58,  1, 15]) output 47\n",
      "input tensor([18, 47, 56, 57, 58,  1, 15, 47]) output 58\n"
     ]
    }
   ],
   "source": [
    "x = train_data[:block_size]\n",
    "y = train_data[1:block_size+1]\n",
    "for t in range(block_size):\n",
    "    context = x[:t+1]\n",
    "    target = y[t]\n",
    "    print(f\"input {context} output {target}\")"
   ]
  },
  {
   "cell_type": "code",
   "execution_count": 10,
   "metadata": {},
   "outputs": [
    {
     "name": "stdout",
     "output_type": "stream",
     "text": [
      "inputs\n",
      "torch.Size([4, 8])\n",
      "tensor([[53, 59,  6,  1, 58, 56, 47, 40],\n",
      "        [49, 43, 43, 54,  1, 47, 58,  1],\n",
      "        [13, 52, 45, 43, 50, 53,  8,  0],\n",
      "        [ 1, 39,  1, 46, 53, 59, 57, 43]])\n",
      "targets\n",
      "torch.Size([4, 8])\n",
      "tensor([[59,  6,  1, 58, 56, 47, 40, 59],\n",
      "        [43, 43, 54,  1, 47, 58,  1, 58],\n",
      "        [52, 45, 43, 50, 53,  8,  0, 26],\n",
      "        [39,  1, 46, 53, 59, 57, 43,  0]])\n",
      "-----------\n",
      "when input is tensor([53]) target is 59\n",
      "when input is tensor([53, 59]) target is 6\n",
      "when input is tensor([53, 59,  6]) target is 1\n",
      "when input is tensor([53, 59,  6,  1]) target is 58\n",
      "when input is tensor([53, 59,  6,  1, 58]) target is 56\n",
      "when input is tensor([53, 59,  6,  1, 58, 56]) target is 47\n",
      "when input is tensor([53, 59,  6,  1, 58, 56, 47]) target is 40\n",
      "when input is tensor([53, 59,  6,  1, 58, 56, 47, 40]) target is 59\n",
      "when input is tensor([49]) target is 43\n",
      "when input is tensor([49, 43]) target is 43\n",
      "when input is tensor([49, 43, 43]) target is 54\n",
      "when input is tensor([49, 43, 43, 54]) target is 1\n",
      "when input is tensor([49, 43, 43, 54,  1]) target is 47\n",
      "when input is tensor([49, 43, 43, 54,  1, 47]) target is 58\n",
      "when input is tensor([49, 43, 43, 54,  1, 47, 58]) target is 1\n",
      "when input is tensor([49, 43, 43, 54,  1, 47, 58,  1]) target is 58\n",
      "when input is tensor([13]) target is 52\n",
      "when input is tensor([13, 52]) target is 45\n",
      "when input is tensor([13, 52, 45]) target is 43\n",
      "when input is tensor([13, 52, 45, 43]) target is 50\n",
      "when input is tensor([13, 52, 45, 43, 50]) target is 53\n",
      "when input is tensor([13, 52, 45, 43, 50, 53]) target is 8\n",
      "when input is tensor([13, 52, 45, 43, 50, 53,  8]) target is 0\n",
      "when input is tensor([13, 52, 45, 43, 50, 53,  8,  0]) target is 26\n",
      "when input is tensor([1]) target is 39\n",
      "when input is tensor([ 1, 39]) target is 1\n",
      "when input is tensor([ 1, 39,  1]) target is 46\n",
      "when input is tensor([ 1, 39,  1, 46]) target is 53\n",
      "when input is tensor([ 1, 39,  1, 46, 53]) target is 59\n",
      "when input is tensor([ 1, 39,  1, 46, 53, 59]) target is 57\n",
      "when input is tensor([ 1, 39,  1, 46, 53, 59, 57]) target is 43\n",
      "when input is tensor([ 1, 39,  1, 46, 53, 59, 57, 43]) target is 0\n"
     ]
    }
   ],
   "source": [
    "torch.manual_seed(1337)\n",
    "batch_size = 4\n",
    "block_size = 8\n",
    "\n",
    "def get_batch(split):\n",
    "    data = train_data if split == 'train' else val_data\n",
    "    ix = torch.randint(len(data) - block_size, (batch_size,))\n",
    "    x = torch.stack([data[i:i+block_size] for i in ix])\n",
    "    y = torch.stack([data[i+1:i+block_size+1] for i in ix])\n",
    "    return x,y\n",
    "\n",
    "xb, yb = get_batch('train')\n",
    "print('inputs')\n",
    "print(xb.shape)\n",
    "print(xb)\n",
    "\n",
    "print('targets')\n",
    "print(yb.shape)\n",
    "print(yb)\n",
    "\n",
    "print(\"-----------\")\n",
    "\n",
    "for b in range(batch_size):\n",
    "    for t in range(block_size):\n",
    "        context = xb[b, :t+1]\n",
    "        target = yb[b, t]\n",
    "        print(f\"when input is {context} target is {target}\")"
   ]
  },
  {
   "cell_type": "code",
   "execution_count": 11,
   "metadata": {},
   "outputs": [
    {
     "name": "stdout",
     "output_type": "stream",
     "text": [
      "torch.Size([32, 65])\n",
      "tensor(4.8948, grad_fn=<NllLossBackward0>)\n",
      "\n",
      "SKIcLT;AcELMoTbvZv C?nq-QE33:CJqkOKH-q;:la!oiywkHjgChzbQ?u!3bLIgwevmyFJGUGp\n",
      "wnYWmnxKWWev-tDqXErVKLgJ\n"
     ]
    }
   ],
   "source": [
    "import torch\n",
    "import torch.nn as nn\n",
    "from torch.nn import functional as F\n",
    "import einops\n",
    "torch.manual_seed(1337)\n",
    "\n",
    "class BigramLanguageModel(nn.Module):\n",
    "    def __init__(self, vocab_size):\n",
    "        super().__init__()\n",
    "        self.token_embedding_table = nn.Embedding(vocab_size, vocab_size)\n",
    "\n",
    "    def forward(self, idx, targets=None):\n",
    "        logits = self.token_embedding_table(idx)\n",
    "        if targets is None:\n",
    "            loss = None\n",
    "        else:\n",
    "            logits = einops.rearrange(logits, 'B T C -> (B T) C')\n",
    "            targets = einops.rearrange(targets, 'B T -> (B T)')\n",
    "            loss = F.cross_entropy(logits, targets)\n",
    "        return logits, loss\n",
    "    \n",
    "    def generate(self, idx, max_new_tokens):\n",
    "        for _ in range(max_new_tokens):\n",
    "            logits, _ = self(idx)\n",
    "            logits = logits[:,-1,:]\n",
    "            probs = F.softmax(logits, dim=-1)\n",
    "            idx_next = torch.multinomial(probs, num_samples=1)\n",
    "            idx = torch.cat((idx, idx_next), dim=1)\n",
    "        return idx\n",
    "    \n",
    "m = BigramLanguageModel(vocab_size)\n",
    "logits, loss = m(xb, yb)\n",
    "print(logits.shape)\n",
    "print(loss)\n",
    "idx = torch.zeros((1,1), dtype=torch.long)\n",
    "print(decode(m.generate(idx, max_new_tokens=100)[0].tolist()))"
   ]
  },
  {
   "cell_type": "code",
   "execution_count": 12,
   "metadata": {},
   "outputs": [],
   "source": [
    "optimizer = torch.optim.Adam(m.parameters(), lr=1e-3)"
   ]
  },
  {
   "cell_type": "code",
   "execution_count": 13,
   "metadata": {},
   "outputs": [
    {
     "name": "stdout",
     "output_type": "stream",
     "text": [
      "2.476459264755249\n"
     ]
    }
   ],
   "source": [
    "batch_size = 32\n",
    "\n",
    "for steps in range(10000):\n",
    "    xb, yb = get_batch('train')\n",
    "    logits, loss = m(xb, yb)\n",
    "    optimizer.zero_grad(set_to_none=True)\n",
    "    loss.backward()\n",
    "    optimizer.step()\n",
    "print(loss.item())"
   ]
  },
  {
   "cell_type": "code",
   "execution_count": 14,
   "metadata": {},
   "outputs": [
    {
     "name": "stdout",
     "output_type": "stream",
     "text": [
      "\n",
      "llo br. ave aviasurf my, may be ivee iuedrd whar ksth y h bora s be hese, woweee; the! KI 'de, ulseecherd d o blllando;\n",
      "\n",
      "Whe, oraingofoff ve!\n",
      "RIfans picsheserer hee anf,\n",
      "TOFonk? me ain ckntoty dedo bo\n"
     ]
    }
   ],
   "source": [
    "idx = torch.zeros((1,1), dtype=torch.long)\n",
    "print(decode(m.generate(idx, max_new_tokens=200)[0].tolist()))"
   ]
  },
  {
   "cell_type": "code",
   "execution_count": 45,
   "metadata": {},
   "outputs": [
    {
     "name": "stdout",
     "output_type": "stream",
     "text": [
      "tensor([[[ 1.9269,  1.4873],\n",
      "         [ 0.9007, -2.1055],\n",
      "         [ 0.6784, -1.2345],\n",
      "         [-0.0431, -1.6047],\n",
      "         [-0.7521,  1.6487],\n",
      "         [-0.3925, -1.4036]],\n",
      "\n",
      "        [[-0.7279, -0.5594],\n",
      "         [-0.7688,  0.7624],\n",
      "         [ 1.6423, -0.1596],\n",
      "         [-0.4974,  0.4396],\n",
      "         [ 0.3189, -0.4245],\n",
      "         [ 0.3057, -0.7746]],\n",
      "\n",
      "        [[ 0.0349,  0.3211],\n",
      "         [ 1.5736, -0.8455],\n",
      "         [-1.2742,  2.1228],\n",
      "         [-1.2347, -0.4879],\n",
      "         [-1.4181,  0.8963],\n",
      "         [ 0.0499,  2.2667]]])\n"
     ]
    }
   ],
   "source": [
    "# version 1 - loose attn\n",
    "torch.manual_seed(42)\n",
    "B,T,C = 3,6,2\n",
    "x = torch.randn(B,T,C)\n",
    "x.shape\n",
    "print(x)"
   ]
  },
  {
   "cell_type": "code",
   "execution_count": 46,
   "metadata": {},
   "outputs": [],
   "source": [
    "# x - (B, T, C)\n",
    "# xbow = x\n",
    "\n",
    "#   x\n",
    "#   [[[2,1], [4,10], [42,5]]\n",
    "#    [[3,3], [14,1], [4,51]]\n",
    "#    [[5,11], [14,110], [4,5]]]\n",
    "#\n",
    "#   xbow ="
   ]
  },
  {
   "cell_type": "code",
   "execution_count": 47,
   "metadata": {},
   "outputs": [
    {
     "name": "stdout",
     "output_type": "stream",
     "text": [
      "tensor([[[ 1.9269,  1.4873],\n",
      "         [ 1.4138, -0.3091],\n",
      "         [ 1.1687, -0.6176],\n",
      "         [ 0.8657, -0.8644],\n",
      "         [ 0.5422, -0.3617],\n",
      "         [ 0.3864, -0.5354]],\n",
      "\n",
      "        [[-0.7279, -0.5594],\n",
      "         [-0.7484,  0.1015],\n",
      "         [ 0.0485,  0.0145],\n",
      "         [-0.0880,  0.1208],\n",
      "         [-0.0066,  0.0117],\n",
      "         [ 0.0455, -0.1194]],\n",
      "\n",
      "        [[ 0.0349,  0.3211],\n",
      "         [ 0.8043, -0.2622],\n",
      "         [ 0.1115,  0.5328],\n",
      "         [-0.2251,  0.2776],\n",
      "         [-0.4637,  0.4014],\n",
      "         [-0.3781,  0.7122]]])\n"
     ]
    }
   ],
   "source": [
    "xbow = torch.zeros((B, T, C))\n",
    "for b in range(B):\n",
    "    for t in range(T):\n",
    "        xprev = x[b, :t+1]\n",
    "        xbow[b, t] = torch.mean(xprev, 0)\n",
    "print(xbow)"
   ]
  },
  {
   "cell_type": "code",
   "execution_count": 48,
   "metadata": {},
   "outputs": [
    {
     "name": "stdout",
     "output_type": "stream",
     "text": [
      "tensor([[1.0000, 0.0000, 0.0000],\n",
      "        [0.5000, 0.5000, 0.0000],\n",
      "        [0.3333, 0.3333, 0.3333]])\n",
      "----\n",
      "tensor([[0., 9.],\n",
      "        [6., 9.],\n",
      "        [5., 4.]])\n",
      "----\n",
      "tensor([[0.0000, 9.0000],\n",
      "        [3.0000, 9.0000],\n",
      "        [3.6667, 7.3333]])\n"
     ]
    }
   ],
   "source": [
    "a = torch.tril(torch.ones(3,3))\n",
    "a = a / torch.sum(a, 1, keepdim=True)\n",
    "b = torch.randint(0, 10, (3,2)).float()\n",
    "c = a @ b\n",
    "print(a)\n",
    "print(\"----\")\n",
    "print(b)\n",
    "print(\"----\")\n",
    "print(c)"
   ]
  },
  {
   "cell_type": "code",
   "execution_count": 88,
   "metadata": {},
   "outputs": [],
   "source": [
    "wei = torch.tril(torch.ones(T,T))\n",
    "wei = wei / torch.sum(wei, 1, keepdim=True) # T x T, x is B x T x C\n",
    "xbow2 = wei @ x"
   ]
  },
  {
   "cell_type": "code",
   "execution_count": 90,
   "metadata": {},
   "outputs": [
    {
     "data": {
      "text/plain": [
       "True"
      ]
     },
     "execution_count": 90,
     "metadata": {},
     "output_type": "execute_result"
    }
   ],
   "source": [
    "torch.allclose(xbow, xbow2)"
   ]
  },
  {
   "cell_type": "code",
   "execution_count": 92,
   "metadata": {},
   "outputs": [],
   "source": [
    "tril = torch.tril(torch.ones(T,T))"
   ]
  },
  {
   "cell_type": "code",
   "execution_count": 94,
   "metadata": {},
   "outputs": [
    {
     "data": {
      "text/plain": [
       "True"
      ]
     },
     "execution_count": 94,
     "metadata": {},
     "output_type": "execute_result"
    }
   ],
   "source": [
    "wei = torch.zeros((T,T))\n",
    "wei = wei.masked_fill(tril == 0, float('-inf'))\n",
    "wei = F.softmax(wei, dim=-1)\n",
    "xbow3 = wei @ x\n",
    "torch.allclose(xbow, xbow3)"
   ]
  },
  {
   "cell_type": "code",
   "execution_count": 107,
   "metadata": {},
   "outputs": [
    {
     "name": "stdout",
     "output_type": "stream",
     "text": [
      "torch.Size([16, 8, 16])\n"
     ]
    }
   ],
   "source": [
    "# self attn\n",
    "torch.manual_seed(1337)\n",
    "B,T,C =  16,8,2\n",
    "x = torch.randn(B,T,C)\n",
    "\n",
    "# single head\n",
    "head_size = 16\n",
    "key = nn.Linear(C, head_size, bias=False)\n",
    "query = nn.Linear(C, head_size, bias=False)\n",
    "value = nn.Linear(C, head_size, bias=False)\n",
    "\n",
    "k = key(x) # (B,T,h)\n",
    "print(k.shape)\n",
    "q = query(x) # (B,T,h)\n",
    "k_T = einops.rearrange(k, 'b t h -> b h t')\n",
    "wei = torch.einsum('b t h, b h T-> b t T', q, k_T)\n",
    "\n",
    "tril = torch.tril(torch.ones(T,T))\n",
    "# wei = torch.zeros((T,T))\n",
    "wei = wei.masked_fill(tril == 0, float('-inf'))\n",
    "wei = F.softmax(wei, dim=-1)\n",
    "v = value(x)\n",
    "out = wei @ v"
   ]
  },
  {
   "cell_type": "code",
   "execution_count": null,
   "metadata": {},
   "outputs": [],
   "source": []
  }
 ],
 "metadata": {
  "kernelspec": {
   "display_name": ".venv",
   "language": "python",
   "name": "python3"
  },
  "language_info": {
   "codemirror_mode": {
    "name": "ipython",
    "version": 3
   },
   "file_extension": ".py",
   "mimetype": "text/x-python",
   "name": "python",
   "nbconvert_exporter": "python",
   "pygments_lexer": "ipython3",
   "version": "3.7.9"
  }
 },
 "nbformat": 4,
 "nbformat_minor": 2
}
